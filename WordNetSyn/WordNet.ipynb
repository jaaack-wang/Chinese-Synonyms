{
 "cells": [
  {
   "cell_type": "code",
   "execution_count": 1,
   "id": "cb0dd918",
   "metadata": {},
   "outputs": [],
   "source": [
    "from nltk.corpus import wordnet as wn\n",
    "\n",
    "\n",
    "def findSyn(w):\n",
    "    return [e.lemma_names('cmn') for e in wn.synsets(w, lang='cmn')]\n",
    "\n",
    "\n",
    "path = 'cow-not-full.txt'\n",
    "words = [l.split('\\t')[-1].strip() for l in open(path).readlines()]"
   ]
  },
  {
   "cell_type": "code",
   "execution_count": 2,
   "id": "2951144f",
   "metadata": {},
   "outputs": [],
   "source": [
    "syn_wn = {}\n",
    "\n",
    "for w in words:\n",
    "    try:\n",
    "        w_ = w.replace('+', '')\n",
    "        added = []\n",
    "        syn_lst = findSyn(w)\n",
    "        for l in syn_lst:\n",
    "            l_ = l.copy()\n",
    "            l_.remove(w_)\n",
    "            added.extend([i.replace('+', '') for i in l_])\n",
    "        if added:\n",
    "            syn_wn[w_] = added\n",
    "    except:\n",
    "        pass"
   ]
  },
  {
   "cell_type": "code",
   "execution_count": 3,
   "id": "a3a906ca",
   "metadata": {},
   "outputs": [
    {
     "data": {
      "text/plain": [
       "32076"
      ]
     },
     "execution_count": 3,
     "metadata": {},
     "output_type": "execute_result"
    }
   ],
   "source": [
    "len(syn_wn)"
   ]
  },
  {
   "cell_type": "code",
   "execution_count": 4,
   "id": "4af8bd8d",
   "metadata": {},
   "outputs": [],
   "source": [
    "import json"
   ]
  },
  {
   "cell_type": "code",
   "execution_count": 5,
   "id": "afc506ae",
   "metadata": {},
   "outputs": [],
   "source": [
    "with open('wordnetSyn.json', 'w') as f:\n",
    "    json.dump(syn_wn, f)"
   ]
  }
 ],
 "metadata": {
  "kernelspec": {
   "display_name": "Python 3 (ipykernel)",
   "language": "python",
   "name": "python3"
  },
  "language_info": {
   "codemirror_mode": {
    "name": "ipython",
    "version": 3
   },
   "file_extension": ".py",
   "mimetype": "text/x-python",
   "name": "python",
   "nbconvert_exporter": "python",
   "pygments_lexer": "ipython3",
   "version": "3.9.6"
  }
 },
 "nbformat": 4,
 "nbformat_minor": 5
}
