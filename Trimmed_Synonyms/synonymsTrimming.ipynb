{
 "cells": [
  {
   "cell_type": "code",
   "execution_count": 1,
   "id": "d07eb9a6",
   "metadata": {},
   "outputs": [],
   "source": [
    "import json\n",
    "from random import sample"
   ]
  },
  {
   "cell_type": "code",
   "execution_count": 3,
   "id": "63ef6f7b",
   "metadata": {},
   "outputs": [],
   "source": [
    "# Some utility funcs that will come in handy\n",
    "\n",
    "def saveJson(dic, path):\n",
    "    with open(path, 'w') as f:\n",
    "        json.dump(dic, f)\n",
    "    print(path + \" has been saved!\")\n",
    "    \n",
    "\n",
    "def readJson(path):\n",
    "    return json.load(open(path))\n",
    "\n",
    "\n",
    "def average_syn(dic):\n",
    "    return sum([len(v) for v in dic.values()]) / len(dic)\n",
    "\n",
    "\n",
    "def random_inspect(dic, out_num):\n",
    "    for k, v in sample(list(dic.items()), out_num):\n",
    "        print(k, v)"
   ]
  },
  {
   "cell_type": "code",
   "execution_count": null,
   "id": "a65ec2a9",
   "metadata": {},
   "outputs": [],
   "source": []
  },
  {
   "cell_type": "code",
   "execution_count": 2,
   "id": "a3d02a1e",
   "metadata": {},
   "outputs": [
    {
     "ename": "NameError",
     "evalue": "name 'json' is not defined",
     "output_type": "error",
     "traceback": [
      "\u001b[0;31m---------------------------------------------------------------------------\u001b[0m",
      "\u001b[0;31mNameError\u001b[0m                                 Traceback (most recent call last)",
      "\u001b[0;32m/var/folders/w9/d_nplhzj4qx35xxlgljgdtjh0000gn/T/ipykernel_97613/4278999859.py\u001b[0m in \u001b[0;36m<module>\u001b[0;34m\u001b[0m\n\u001b[0;32m----> 1\u001b[0;31m \u001b[0mwn_syn\u001b[0m \u001b[0;34m=\u001b[0m \u001b[0mreadJson\u001b[0m\u001b[0;34m(\u001b[0m\u001b[0;34m'wordnetSyn.json'\u001b[0m\u001b[0;34m)\u001b[0m\u001b[0;34m\u001b[0m\u001b[0;34m\u001b[0m\u001b[0m\n\u001b[0m\u001b[1;32m      2\u001b[0m \u001b[0mrev_syn\u001b[0m \u001b[0;34m=\u001b[0m \u001b[0mreadJson\u001b[0m\u001b[0;34m(\u001b[0m\u001b[0;34m'revised_syn.json'\u001b[0m\u001b[0;34m)\u001b[0m\u001b[0;34m\u001b[0m\u001b[0;34m\u001b[0m\u001b[0m\n\u001b[1;32m      3\u001b[0m \u001b[0mlen\u001b[0m\u001b[0;34m(\u001b[0m\u001b[0mwn_syn\u001b[0m\u001b[0;34m)\u001b[0m\u001b[0;34m,\u001b[0m \u001b[0mlen\u001b[0m\u001b[0;34m(\u001b[0m\u001b[0mrev_syn\u001b[0m\u001b[0;34m)\u001b[0m\u001b[0;34m\u001b[0m\u001b[0;34m\u001b[0m\u001b[0m\n",
      "\u001b[0;32m/var/folders/w9/d_nplhzj4qx35xxlgljgdtjh0000gn/T/ipykernel_97613/2196894134.py\u001b[0m in \u001b[0;36mreadJson\u001b[0;34m(path)\u001b[0m\n\u001b[1;32m      6\u001b[0m \u001b[0;34m\u001b[0m\u001b[0m\n\u001b[1;32m      7\u001b[0m \u001b[0;32mdef\u001b[0m \u001b[0mreadJson\u001b[0m\u001b[0;34m(\u001b[0m\u001b[0mpath\u001b[0m\u001b[0;34m)\u001b[0m\u001b[0;34m:\u001b[0m\u001b[0;34m\u001b[0m\u001b[0;34m\u001b[0m\u001b[0m\n\u001b[0;32m----> 8\u001b[0;31m     \u001b[0;32mreturn\u001b[0m \u001b[0mjson\u001b[0m\u001b[0;34m.\u001b[0m\u001b[0mload\u001b[0m\u001b[0;34m(\u001b[0m\u001b[0mopen\u001b[0m\u001b[0;34m(\u001b[0m\u001b[0mpath\u001b[0m\u001b[0;34m)\u001b[0m\u001b[0;34m)\u001b[0m\u001b[0;34m\u001b[0m\u001b[0;34m\u001b[0m\u001b[0m\n\u001b[0m",
      "\u001b[0;31mNameError\u001b[0m: name 'json' is not defined"
     ]
    }
   ],
   "source": [
    "# Import two dics. revised_syn is a manually trimmed dic \n",
    "# from synonyms.json in the previous folder \n",
    "wn_syn = readJson('wordnetSyn.json')\n",
    "rev_syn = readJson('revised_syn.json')\n",
    "len(wn_syn), len(rev_syn)"
   ]
  },
  {
   "cell_type": "code",
   "execution_count": null,
   "id": "4a5adf78",
   "metadata": {},
   "outputs": [],
   "source": []
  },
  {
   "cell_type": "code",
   "execution_count": 4,
   "id": "79d94020",
   "metadata": {},
   "outputs": [
    {
     "data": {
      "text/plain": [
       "46798"
      ]
     },
     "execution_count": 4,
     "metadata": {},
     "output_type": "execute_result"
    }
   ],
   "source": [
    "# Co\n",
    "syn = wn_syn.copy()\n",
    "\n",
    "for k, v in rev_syn.items():\n",
    "    if k in syn:\n",
    "        syn[k] = list(set(v + syn[k]))\n",
    "    else:\n",
    "        syn[k] = v\n",
    "\n",
    "len(syn)"
   ]
  },
  {
   "cell_type": "code",
   "execution_count": 5,
   "id": "5a60162f",
   "metadata": {},
   "outputs": [
    {
     "name": "stdout",
     "output_type": "stream",
     "text": [
      "重压 ['不安', '压力', '紧张']\n",
      "攫取 ['夺过', '抓住', '抓紧', '抱紧', '攫', '猛抓', '突然或有力地抓住', '紧抓', '紧握', '占用', '抢']\n",
      "保持某种状态 ['保持', '继续', '维持']\n",
      "强烈的感情 ['激情', '狂热']\n",
      "火箭炮 ['喀秋莎', '火箭筒', '巴祖卡']\n",
      "捉贼见赃 ['捉奸见双']\n",
      "上工 ['上班', '出勤', '出工']\n",
      "如梦初醒 ['茅塞顿开', '豁然开朗']\n",
      "可笑 ['好笑', '喷饭', '捧腹', '洋相']\n",
      "正十二面体 ['十二面体']\n"
     ]
    }
   ],
   "source": [
    "for k, v in sample(list(syn.items()), 10):\n",
    "    print(k, v)"
   ]
  },
  {
   "cell_type": "code",
   "execution_count": 6,
   "id": "0b0a0b0e",
   "metadata": {},
   "outputs": [],
   "source": [
    "for k, v in syn.items():\n",
    "    if not v:\n",
    "        print(k, v)"
   ]
  },
  {
   "cell_type": "markdown",
   "id": "8cff43de",
   "metadata": {},
   "source": [
    "## Make a narrowly expanded version\n",
    "If x is the synonym for y, then y is the synonym for x too."
   ]
  },
  {
   "cell_type": "code",
   "execution_count": 7,
   "id": "85b48b5b",
   "metadata": {},
   "outputs": [
    {
     "name": "stdout",
     "output_type": "stream",
     "text": [
      "70599\n"
     ]
    }
   ],
   "source": [
    "expand_narrow = syn.copy()\n",
    "\n",
    "for k in syn.keys():\n",
    "    values = syn[k]\n",
    "    for v in values:\n",
    "        if v in expand_narrow:\n",
    "            if k not in expand_narrow[v]:\n",
    "                expand_narrow[v] = [k] + expand_narrow[v]\n",
    "        else:\n",
    "            expand_narrow[v] = [k]\n",
    "            \n",
    "print(len(expand_narrow))"
   ]
  },
  {
   "cell_type": "markdown",
   "id": "140c97a0",
   "metadata": {},
   "source": [
    "## Trimming"
   ]
  },
  {
   "cell_type": "code",
   "execution_count": 8,
   "id": "784981c0",
   "metadata": {},
   "outputs": [],
   "source": [
    "def trim_dic(syn_dic):\n",
    "    syn_dic = syn_dic.copy()\n",
    "    # if words, four chars or longer, and have more than 5 syns,\n",
    "    # delete syns that have only one char, but not all if only 5 syns left\n",
    "    for k, v in list(syn_dic.items()):\n",
    "        if len(k) >= 4:\n",
    "            syn_num = len(v)\n",
    "            if syn_num > 5:\n",
    "                for w in v:\n",
    "                    if len(w) == 1:\n",
    "                        syn_dic[k].remove(w)\n",
    "                        syn_num -= 1\n",
    "                    if syn_num == 5:\n",
    "                        break\n",
    "    \n",
    "    # if words, one char long, and have more than 5 syns, \n",
    "    # delete syns that have more than 4 chars, but not all if only 5 syns left\n",
    "    for k, v in list(syn_dic.items()):\n",
    "        if len(k) == 1:\n",
    "            syn_num = len(v)\n",
    "            if syn_num > 5:\n",
    "                for w in v:\n",
    "                    if len(w) >= 4:\n",
    "                        syn_dic[k].remove(w)\n",
    "                        syn_num -= 1\n",
    "                    if syn_num == 5:\n",
    "                        break\n",
    "    \n",
    "    # if words, two chars, has more than 5 syns, \n",
    "    # delete syns that have more than 4 chars, but not all if only 5 syns left\n",
    "    for k, v in list(syn_dic.items()):\n",
    "        if len(k) == 2:\n",
    "            syn_num = len(v)\n",
    "            if syn_num > 5:\n",
    "                for w in v:\n",
    "                    if len(w) >= 4:\n",
    "                        syn_dic[k].remove(w)\n",
    "                        syn_num -= 1\n",
    "                    if syn_num == 5:\n",
    "                        break\n",
    "                        \n",
    "    # if words, two chars long, has more than 5 syns,\n",
    "    # delete syns that have only 1 char if that char not in the words, \n",
    "    # but not all if only 5 syns left\n",
    "    for k, v in list(syn_dic.items()):\n",
    "        if len(k) == 2:\n",
    "            syn_num = len(v)\n",
    "            if syn_num > 5:\n",
    "                for w in v:\n",
    "                    if len(w) == 1 and w not in k:\n",
    "                        syn_dic[k].remove(w)\n",
    "                        syn_num -= 1\n",
    "                    if syn_num == 5:\n",
    "                        break\n",
    "    \n",
    "    # if words, two chars long, have more than 5 syns, \n",
    "    # delete those who has no shared characters, but not all if only 5 syns left\n",
    "    for k, v in list(syn_dic.items()):\n",
    "        if len(k) == 2:\n",
    "            syn_num = len(v)\n",
    "            if len(v) > 5:\n",
    "                for w in v:\n",
    "                    if k[0] not in w and k[-1] not in w:\n",
    "                        syn_dic[k].remove(w)\n",
    "                        syn_num -= 1\n",
    "                    if syn_num == 5:\n",
    "                        break\n",
    "                        \n",
    "    # if words, one char long, have more than 5 syns, \n",
    "    # delete those who has no shared characters, but not all if only 5 syns left\n",
    "    for k, v in list(syn_dic.items()):\n",
    "        if len(k) == 1:\n",
    "            syn_num = len(v)\n",
    "            if syn_num > 5:\n",
    "                for w in v:\n",
    "                    if k[0] not in w and k[-1] not in w:\n",
    "                        syn_dic[k].remove(w)\n",
    "                        syn_num -= 1\n",
    "                    if syn_num == 5:\n",
    "                        break\n",
    "    \n",
    "    # finally if a word, has more than 5 syns, randomly sample 5 out of them;\n",
    "    # if a word, has no syn at all following the trimming, pop that word\n",
    "    for k, v in list(syn_dic.items()):\n",
    "        if len(v) > 5:\n",
    "            syn_dic[k] = sample(v, 5)\n",
    "        elif len(v) <= 1:\n",
    "            syn_dic.pop(k)\n",
    "    \n",
    "    return syn_dic"
   ]
  },
  {
   "cell_type": "code",
   "execution_count": 9,
   "id": "4fdd4aac",
   "metadata": {},
   "outputs": [
    {
     "data": {
      "text/plain": [
       "(70599, 34408)"
      ]
     },
     "execution_count": 9,
     "metadata": {},
     "output_type": "execute_result"
    }
   ],
   "source": [
    "expand_narrow_trim = trim_dic(expand_narrow)\n",
    "len(expand_narrow), len(expand_narrow_trim)"
   ]
  },
  {
   "cell_type": "code",
   "execution_count": 10,
   "id": "91db4c95",
   "metadata": {},
   "outputs": [
    {
     "data": {
      "text/plain": [
       "(46798, 29163)"
      ]
     },
     "execution_count": 10,
     "metadata": {},
     "output_type": "execute_result"
    }
   ],
   "source": [
    "syn_trim = trim_dic(syn)\n",
    "len(syn), len(syn_trim)"
   ]
  },
  {
   "cell_type": "code",
   "execution_count": 11,
   "id": "bcef65a8",
   "metadata": {},
   "outputs": [
    {
     "data": {
      "text/plain": [
       "(2.4101757815266507, 3.332916763543362)"
      ]
     },
     "execution_count": 11,
     "metadata": {},
     "output_type": "execute_result"
    }
   ],
   "source": [
    "average_syn(expand_narrow), average_syn(expand_narrow_trim)"
   ]
  },
  {
   "cell_type": "code",
   "execution_count": 12,
   "id": "ea0e082e",
   "metadata": {},
   "outputs": [
    {
     "data": {
      "text/plain": [
       "(2.7679815376725503, 3.2817268456605975)"
      ]
     },
     "execution_count": 12,
     "metadata": {},
     "output_type": "execute_result"
    }
   ],
   "source": [
    "average_syn(syn), average_syn(syn_trim)"
   ]
  },
  {
   "cell_type": "markdown",
   "id": "e9a6e923",
   "metadata": {},
   "source": [
    "## Debugging"
   ]
  },
  {
   "cell_type": "code",
   "execution_count": 13,
   "id": "8e87084b",
   "metadata": {},
   "outputs": [],
   "source": [
    "def debug(dic):\n",
    "    # No words should have over 5 syn\n",
    "    for k, v in dic.items():\n",
    "        if len(v) > 5:\n",
    "            print(k, 'has more than 5 syns!')\n",
    "            \n",
    "    # No words should have no syns or one syn\n",
    "    for k, v in dic.items():\n",
    "        if len(v) <= 1:\n",
    "            print(k, 'has only one syn or no syn:', v)\n",
    "                    \n",
    "    # if words, one char long, have 5 syns, they should not have syns \n",
    "    # that have no shared char with them\n",
    "    for k, v in list(dic.items()):\n",
    "        if len(k) == 1:\n",
    "            for w in k:\n",
    "                if k not in w:\n",
    "                    print(k, 'has 5 syns but, ', w, 'has no shared char')\n",
    "                    \n",
    "    # if words, two chars long, have 5 syns, they should not have syns \n",
    "    # that have no shared char with them\n",
    "    for k, v in list(dic.items()):\n",
    "        if len(k) == 2:\n",
    "            for w in k:\n",
    "                if k[0] not in w and k[-1] not in w:\n",
    "                    print(k, 'has 5 syns but, ', w, 'has no shared char')\n",
    "    "
   ]
  },
  {
   "cell_type": "code",
   "execution_count": 14,
   "id": "33b9f365",
   "metadata": {},
   "outputs": [],
   "source": [
    "debug(expand_narrow_trim)"
   ]
  },
  {
   "cell_type": "code",
   "execution_count": 15,
   "id": "3f469e14",
   "metadata": {},
   "outputs": [],
   "source": [
    "debug(syn_trim)"
   ]
  },
  {
   "cell_type": "code",
   "execution_count": 16,
   "id": "96339bba",
   "metadata": {
    "scrolled": true
   },
   "outputs": [
    {
     "name": "stdout",
     "output_type": "stream",
     "text": [
      "燃料量计 ['燃料指示器', '燃料液位指示计', '燃油表', '燃油量表']\n",
      "过游民生活 ['游荡', '闲逛']\n",
      "磨损率 ['损耗率', '磨耗率']\n",
      "透孔织品 ['网眼织物', '蕾丝']\n",
      "使阴沉 ['使变成阴天', '使布满云层', '使阴暗', '变阴暗']\n",
      "钟 ['时钟', '钟表', '钟琴']\n",
      "一念之差 ['一眨眼', '一差二错', '阴差阳错', '差之毫厘']\n",
      "受害 ['被害', '遇害', '蒙难', '遇难', '落难']\n",
      "停工 ['停止做', '停止执行', '歇工', '罢工', '罢工']\n",
      "独身 ['孤单', '单身的', '未婚的', '没有配偶的']\n",
      "三人成虎 ['以讹传讹', '讹以滋讹', '众口铄金', '道听途说']\n",
      "专员 ['专人', '参赞', '大使随员']\n",
      "书局 ['书店', '出版社']\n",
      "木桶架 ['构台', '跨轨信号杆']\n",
      "变紧 ['绷紧', '变得更紧', '拉紧']\n",
      "无实用价值的鱼 ['没有经济价值的鱼', '非食用鱼']\n",
      "盘旋 ['卷旋', '徘徊', '使升空', '高飞', '旋转']\n",
      "豆蓉 ['木豆', '柳豆', '树豆', '树黄豆', '鸽豆']\n",
      "熏肉 ['咸肉', '培根', '熏咸肉']\n",
      "吉利 ['吉庆', '吉祥']\n"
     ]
    }
   ],
   "source": [
    "for k, v in sample(list(expand_narrow_trim.items()), 20):\n",
    "    print(k, v)"
   ]
  },
  {
   "cell_type": "markdown",
   "id": "7ec37572",
   "metadata": {},
   "source": [
    "## Save whichever trimmed syn you want to save"
   ]
  },
  {
   "cell_type": "code",
   "execution_count": 17,
   "id": "6af70023",
   "metadata": {},
   "outputs": [
    {
     "name": "stdout",
     "output_type": "stream",
     "text": [
      "../data/synonyms.json has been saved!\n"
     ]
    }
   ],
   "source": [
    "saveJson(expand_narrow_trim, 'synonyms.json')"
   ]
  }
 ],
 "metadata": {
  "kernelspec": {
   "display_name": "Python 3 (ipykernel)",
   "language": "python",
   "name": "python3"
  },
  "language_info": {
   "codemirror_mode": {
    "name": "ipython",
    "version": 3
   },
   "file_extension": ".py",
   "mimetype": "text/x-python",
   "name": "python",
   "nbconvert_exporter": "python",
   "pygments_lexer": "ipython3",
   "version": "3.9.6"
  }
 },
 "nbformat": 4,
 "nbformat_minor": 5
}
